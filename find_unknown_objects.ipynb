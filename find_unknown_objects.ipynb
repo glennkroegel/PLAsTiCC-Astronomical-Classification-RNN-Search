{
 "cells": [
  {
   "cell_type": "code",
   "execution_count": 15,
   "metadata": {},
   "outputs": [],
   "source": [
    "import torch\n",
    "from torch.autograd import Variable\n",
    "import torch.nn as nn\n",
    "import torch.nn.functional as F\n",
    "from torch.nn.utils.rnn import pack_padded_sequence, pad_packed_sequence, pad_sequence\n",
    "\n",
    "from dataset import *\n",
    "import nmslib"
   ]
  },
  {
   "cell_type": "markdown",
   "metadata": {},
   "source": [
    "## 0. Loading"
   ]
  },
  {
   "cell_type": "markdown",
   "metadata": {},
   "source": [
    "<b> Load the trained model and formatted test data <b/>"
   ]
  },
  {
   "cell_type": "code",
   "execution_count": 2,
   "metadata": {},
   "outputs": [],
   "source": [
    "mdl = torch.load('model.pt')"
   ]
  },
  {
   "cell_type": "code",
   "execution_count": 3,
   "metadata": {},
   "outputs": [],
   "source": [
    "mdl.training = False"
   ]
  },
  {
   "cell_type": "code",
   "execution_count": 4,
   "metadata": {},
   "outputs": [],
   "source": [
    "test_loader = torch.load('test_loader.pt')"
   ]
  },
  {
   "cell_type": "markdown",
   "metadata": {},
   "source": [
    "## 1. Calculate Object Encoding"
   ]
  },
  {
   "cell_type": "markdown",
   "metadata": {},
   "source": [
    "<b> Here we associate every object with the encoding vector calculated on the MergeRNN layer. <b/> "
   ]
  },
  {
   "cell_type": "markdown",
   "metadata": {},
   "source": [
    "This is easily achieved by setting the get_state flag in the model to true."
   ]
  },
  {
   "cell_type": "code",
   "execution_count": 5,
   "metadata": {},
   "outputs": [],
   "source": [
    "obj_encs = []\n",
    "for x in test_loader:\n",
    "    encs = mdl.forward(x, get_state=True)\n",
    "    obj_encs.append(encs)"
   ]
  },
  {
   "cell_type": "code",
   "execution_count": 6,
   "metadata": {},
   "outputs": [],
   "source": [
    "obj_encs = obj_encs[0]"
   ]
  },
  {
   "cell_type": "code",
   "execution_count": 7,
   "metadata": {},
   "outputs": [],
   "source": [
    "df = pd.DataFrame(obj_encs.tolist())"
   ]
  },
  {
   "cell_type": "code",
   "execution_count": 8,
   "metadata": {},
   "outputs": [
    {
     "data": {
      "text/html": [
       "<div>\n",
       "<style scoped>\n",
       "    .dataframe tbody tr th:only-of-type {\n",
       "        vertical-align: middle;\n",
       "    }\n",
       "\n",
       "    .dataframe tbody tr th {\n",
       "        vertical-align: top;\n",
       "    }\n",
       "\n",
       "    .dataframe thead th {\n",
       "        text-align: right;\n",
       "    }\n",
       "</style>\n",
       "<table border=\"1\" class=\"dataframe\">\n",
       "  <thead>\n",
       "    <tr style=\"text-align: right;\">\n",
       "      <th></th>\n",
       "      <th>0</th>\n",
       "      <th>1</th>\n",
       "      <th>2</th>\n",
       "      <th>3</th>\n",
       "      <th>4</th>\n",
       "      <th>5</th>\n",
       "      <th>6</th>\n",
       "      <th>7</th>\n",
       "      <th>8</th>\n",
       "      <th>9</th>\n",
       "      <th>...</th>\n",
       "      <th>118</th>\n",
       "      <th>119</th>\n",
       "      <th>120</th>\n",
       "      <th>121</th>\n",
       "      <th>122</th>\n",
       "      <th>123</th>\n",
       "      <th>124</th>\n",
       "      <th>125</th>\n",
       "      <th>126</th>\n",
       "      <th>127</th>\n",
       "    </tr>\n",
       "  </thead>\n",
       "  <tbody>\n",
       "    <tr>\n",
       "      <th>0</th>\n",
       "      <td>2.35042</td>\n",
       "      <td>0.112386</td>\n",
       "      <td>-0.807134</td>\n",
       "      <td>-1.599127</td>\n",
       "      <td>-0.467856</td>\n",
       "      <td>1.501227</td>\n",
       "      <td>-0.602747</td>\n",
       "      <td>0.110598</td>\n",
       "      <td>2.738788</td>\n",
       "      <td>-0.085319</td>\n",
       "      <td>...</td>\n",
       "      <td>-0.150545</td>\n",
       "      <td>-0.141480</td>\n",
       "      <td>-0.108402</td>\n",
       "      <td>-0.476537</td>\n",
       "      <td>-1.837693</td>\n",
       "      <td>0.081284</td>\n",
       "      <td>0.101653</td>\n",
       "      <td>-0.265070</td>\n",
       "      <td>0.110261</td>\n",
       "      <td>-1.224855</td>\n",
       "    </tr>\n",
       "    <tr>\n",
       "      <th>1</th>\n",
       "      <td>1.87604</td>\n",
       "      <td>0.112386</td>\n",
       "      <td>-0.807134</td>\n",
       "      <td>-1.599127</td>\n",
       "      <td>-0.509676</td>\n",
       "      <td>1.181970</td>\n",
       "      <td>-0.602747</td>\n",
       "      <td>2.009841</td>\n",
       "      <td>3.352639</td>\n",
       "      <td>-0.085319</td>\n",
       "      <td>...</td>\n",
       "      <td>-0.150545</td>\n",
       "      <td>-0.233311</td>\n",
       "      <td>-0.108402</td>\n",
       "      <td>-0.489228</td>\n",
       "      <td>-1.837693</td>\n",
       "      <td>0.081284</td>\n",
       "      <td>0.101653</td>\n",
       "      <td>-0.230116</td>\n",
       "      <td>0.110261</td>\n",
       "      <td>-1.224855</td>\n",
       "    </tr>\n",
       "    <tr>\n",
       "      <th>2</th>\n",
       "      <td>1.21678</td>\n",
       "      <td>0.112386</td>\n",
       "      <td>-0.807134</td>\n",
       "      <td>-1.599127</td>\n",
       "      <td>-0.624903</td>\n",
       "      <td>0.540378</td>\n",
       "      <td>-0.602747</td>\n",
       "      <td>2.496461</td>\n",
       "      <td>2.882096</td>\n",
       "      <td>-0.085319</td>\n",
       "      <td>...</td>\n",
       "      <td>-0.150545</td>\n",
       "      <td>-0.221824</td>\n",
       "      <td>-0.108402</td>\n",
       "      <td>-0.502505</td>\n",
       "      <td>-1.837693</td>\n",
       "      <td>0.081284</td>\n",
       "      <td>0.101653</td>\n",
       "      <td>-0.275354</td>\n",
       "      <td>0.110261</td>\n",
       "      <td>-1.224855</td>\n",
       "    </tr>\n",
       "  </tbody>\n",
       "</table>\n",
       "<p>3 rows × 128 columns</p>\n",
       "</div>"
      ],
      "text/plain": [
       "       0         1         2         3         4         5         6    \\\n",
       "0  2.35042  0.112386 -0.807134 -1.599127 -0.467856  1.501227 -0.602747   \n",
       "1  1.87604  0.112386 -0.807134 -1.599127 -0.509676  1.181970 -0.602747   \n",
       "2  1.21678  0.112386 -0.807134 -1.599127 -0.624903  0.540378 -0.602747   \n",
       "\n",
       "        7         8         9      ...          118       119       120  \\\n",
       "0  0.110598  2.738788 -0.085319    ...    -0.150545 -0.141480 -0.108402   \n",
       "1  2.009841  3.352639 -0.085319    ...    -0.150545 -0.233311 -0.108402   \n",
       "2  2.496461  2.882096 -0.085319    ...    -0.150545 -0.221824 -0.108402   \n",
       "\n",
       "        121       122       123       124       125       126       127  \n",
       "0 -0.476537 -1.837693  0.081284  0.101653 -0.265070  0.110261 -1.224855  \n",
       "1 -0.489228 -1.837693  0.081284  0.101653 -0.230116  0.110261 -1.224855  \n",
       "2 -0.502505 -1.837693  0.081284  0.101653 -0.275354  0.110261 -1.224855  \n",
       "\n",
       "[3 rows x 128 columns]"
      ]
     },
     "execution_count": 8,
     "metadata": {},
     "output_type": "execute_result"
    }
   ],
   "source": [
    "df.head(3)"
   ]
  },
  {
   "cell_type": "code",
   "execution_count": 9,
   "metadata": {},
   "outputs": [],
   "source": [
    "ix = pd.read_pickle('test_xs_ix.pkl')"
   ]
  },
  {
   "cell_type": "code",
   "execution_count": 10,
   "metadata": {},
   "outputs": [],
   "source": [
    "df.index = ix"
   ]
  },
  {
   "cell_type": "code",
   "execution_count": 11,
   "metadata": {},
   "outputs": [
    {
     "data": {
      "text/html": [
       "<div>\n",
       "<style scoped>\n",
       "    .dataframe tbody tr th:only-of-type {\n",
       "        vertical-align: middle;\n",
       "    }\n",
       "\n",
       "    .dataframe tbody tr th {\n",
       "        vertical-align: top;\n",
       "    }\n",
       "\n",
       "    .dataframe thead th {\n",
       "        text-align: right;\n",
       "    }\n",
       "</style>\n",
       "<table border=\"1\" class=\"dataframe\">\n",
       "  <thead>\n",
       "    <tr style=\"text-align: right;\">\n",
       "      <th></th>\n",
       "      <th>0</th>\n",
       "      <th>1</th>\n",
       "      <th>2</th>\n",
       "      <th>3</th>\n",
       "      <th>4</th>\n",
       "      <th>5</th>\n",
       "      <th>6</th>\n",
       "      <th>7</th>\n",
       "      <th>8</th>\n",
       "      <th>9</th>\n",
       "      <th>...</th>\n",
       "      <th>118</th>\n",
       "      <th>119</th>\n",
       "      <th>120</th>\n",
       "      <th>121</th>\n",
       "      <th>122</th>\n",
       "      <th>123</th>\n",
       "      <th>124</th>\n",
       "      <th>125</th>\n",
       "      <th>126</th>\n",
       "      <th>127</th>\n",
       "    </tr>\n",
       "    <tr>\n",
       "      <th>object_id</th>\n",
       "      <th></th>\n",
       "      <th></th>\n",
       "      <th></th>\n",
       "      <th></th>\n",
       "      <th></th>\n",
       "      <th></th>\n",
       "      <th></th>\n",
       "      <th></th>\n",
       "      <th></th>\n",
       "      <th></th>\n",
       "      <th></th>\n",
       "      <th></th>\n",
       "      <th></th>\n",
       "      <th></th>\n",
       "      <th></th>\n",
       "      <th></th>\n",
       "      <th></th>\n",
       "      <th></th>\n",
       "      <th></th>\n",
       "      <th></th>\n",
       "      <th></th>\n",
       "    </tr>\n",
       "  </thead>\n",
       "  <tbody>\n",
       "    <tr>\n",
       "      <th>13</th>\n",
       "      <td>2.350420</td>\n",
       "      <td>0.112386</td>\n",
       "      <td>-0.807134</td>\n",
       "      <td>-1.599127</td>\n",
       "      <td>-0.467856</td>\n",
       "      <td>1.501227</td>\n",
       "      <td>-0.602747</td>\n",
       "      <td>0.110598</td>\n",
       "      <td>2.738788</td>\n",
       "      <td>-0.085319</td>\n",
       "      <td>...</td>\n",
       "      <td>-0.150545</td>\n",
       "      <td>-0.141480</td>\n",
       "      <td>-0.108402</td>\n",
       "      <td>-0.476537</td>\n",
       "      <td>-1.837693</td>\n",
       "      <td>0.081284</td>\n",
       "      <td>0.101653</td>\n",
       "      <td>-0.265070</td>\n",
       "      <td>0.110261</td>\n",
       "      <td>-1.224855</td>\n",
       "    </tr>\n",
       "    <tr>\n",
       "      <th>14</th>\n",
       "      <td>1.876040</td>\n",
       "      <td>0.112386</td>\n",
       "      <td>-0.807134</td>\n",
       "      <td>-1.599127</td>\n",
       "      <td>-0.509676</td>\n",
       "      <td>1.181970</td>\n",
       "      <td>-0.602747</td>\n",
       "      <td>2.009841</td>\n",
       "      <td>3.352639</td>\n",
       "      <td>-0.085319</td>\n",
       "      <td>...</td>\n",
       "      <td>-0.150545</td>\n",
       "      <td>-0.233311</td>\n",
       "      <td>-0.108402</td>\n",
       "      <td>-0.489228</td>\n",
       "      <td>-1.837693</td>\n",
       "      <td>0.081284</td>\n",
       "      <td>0.101653</td>\n",
       "      <td>-0.230116</td>\n",
       "      <td>0.110261</td>\n",
       "      <td>-1.224855</td>\n",
       "    </tr>\n",
       "    <tr>\n",
       "      <th>17</th>\n",
       "      <td>1.216780</td>\n",
       "      <td>0.112386</td>\n",
       "      <td>-0.807134</td>\n",
       "      <td>-1.599127</td>\n",
       "      <td>-0.624903</td>\n",
       "      <td>0.540378</td>\n",
       "      <td>-0.602747</td>\n",
       "      <td>2.496461</td>\n",
       "      <td>2.882096</td>\n",
       "      <td>-0.085319</td>\n",
       "      <td>...</td>\n",
       "      <td>-0.150545</td>\n",
       "      <td>-0.221824</td>\n",
       "      <td>-0.108402</td>\n",
       "      <td>-0.502505</td>\n",
       "      <td>-1.837693</td>\n",
       "      <td>0.081284</td>\n",
       "      <td>0.101653</td>\n",
       "      <td>-0.275354</td>\n",
       "      <td>0.110261</td>\n",
       "      <td>-1.224855</td>\n",
       "    </tr>\n",
       "    <tr>\n",
       "      <th>23</th>\n",
       "      <td>1.868699</td>\n",
       "      <td>0.112386</td>\n",
       "      <td>-0.807134</td>\n",
       "      <td>-1.599127</td>\n",
       "      <td>-0.767239</td>\n",
       "      <td>0.385271</td>\n",
       "      <td>-0.602747</td>\n",
       "      <td>3.361639</td>\n",
       "      <td>3.606521</td>\n",
       "      <td>-0.085319</td>\n",
       "      <td>...</td>\n",
       "      <td>-0.150545</td>\n",
       "      <td>-0.251225</td>\n",
       "      <td>-0.108402</td>\n",
       "      <td>-0.611845</td>\n",
       "      <td>-1.837693</td>\n",
       "      <td>0.081284</td>\n",
       "      <td>0.101653</td>\n",
       "      <td>-0.282142</td>\n",
       "      <td>0.110261</td>\n",
       "      <td>-1.224855</td>\n",
       "    </tr>\n",
       "    <tr>\n",
       "      <th>34</th>\n",
       "      <td>1.413542</td>\n",
       "      <td>0.112386</td>\n",
       "      <td>-0.807134</td>\n",
       "      <td>-1.599127</td>\n",
       "      <td>-0.692696</td>\n",
       "      <td>0.898524</td>\n",
       "      <td>-0.602747</td>\n",
       "      <td>0.430164</td>\n",
       "      <td>2.741134</td>\n",
       "      <td>-0.085319</td>\n",
       "      <td>...</td>\n",
       "      <td>-0.150545</td>\n",
       "      <td>-0.183926</td>\n",
       "      <td>-0.108402</td>\n",
       "      <td>-0.526038</td>\n",
       "      <td>-1.837693</td>\n",
       "      <td>0.081284</td>\n",
       "      <td>0.101653</td>\n",
       "      <td>-0.258345</td>\n",
       "      <td>0.110261</td>\n",
       "      <td>-1.224855</td>\n",
       "    </tr>\n",
       "  </tbody>\n",
       "</table>\n",
       "<p>5 rows × 128 columns</p>\n",
       "</div>"
      ],
      "text/plain": [
       "                0         1         2         3         4         5    \\\n",
       "object_id                                                               \n",
       "13         2.350420  0.112386 -0.807134 -1.599127 -0.467856  1.501227   \n",
       "14         1.876040  0.112386 -0.807134 -1.599127 -0.509676  1.181970   \n",
       "17         1.216780  0.112386 -0.807134 -1.599127 -0.624903  0.540378   \n",
       "23         1.868699  0.112386 -0.807134 -1.599127 -0.767239  0.385271   \n",
       "34         1.413542  0.112386 -0.807134 -1.599127 -0.692696  0.898524   \n",
       "\n",
       "                6         7         8         9      ...          118  \\\n",
       "object_id                                            ...                \n",
       "13        -0.602747  0.110598  2.738788 -0.085319    ...    -0.150545   \n",
       "14        -0.602747  2.009841  3.352639 -0.085319    ...    -0.150545   \n",
       "17        -0.602747  2.496461  2.882096 -0.085319    ...    -0.150545   \n",
       "23        -0.602747  3.361639  3.606521 -0.085319    ...    -0.150545   \n",
       "34        -0.602747  0.430164  2.741134 -0.085319    ...    -0.150545   \n",
       "\n",
       "                119       120       121       122       123       124  \\\n",
       "object_id                                                               \n",
       "13        -0.141480 -0.108402 -0.476537 -1.837693  0.081284  0.101653   \n",
       "14        -0.233311 -0.108402 -0.489228 -1.837693  0.081284  0.101653   \n",
       "17        -0.221824 -0.108402 -0.502505 -1.837693  0.081284  0.101653   \n",
       "23        -0.251225 -0.108402 -0.611845 -1.837693  0.081284  0.101653   \n",
       "34        -0.183926 -0.108402 -0.526038 -1.837693  0.081284  0.101653   \n",
       "\n",
       "                125       126       127  \n",
       "object_id                                \n",
       "13        -0.265070  0.110261 -1.224855  \n",
       "14        -0.230116  0.110261 -1.224855  \n",
       "17        -0.275354  0.110261 -1.224855  \n",
       "23        -0.282142  0.110261 -1.224855  \n",
       "34        -0.258345  0.110261 -1.224855  \n",
       "\n",
       "[5 rows x 128 columns]"
      ]
     },
     "execution_count": 11,
     "metadata": {},
     "output_type": "execute_result"
    }
   ],
   "source": [
    "df.Qhead()"
   ]
  },
  {
   "cell_type": "markdown",
   "metadata": {},
   "source": [
    "### 1.1 Create NMSLIB Index "
   ]
  },
  {
   "cell_type": "code",
   "execution_count": 16,
   "metadata": {},
   "outputs": [],
   "source": [
    "# initialize a new index, using a HNSW index on Cosine Similarity\n",
    "index = nmslib.init(space='cosinesimil')\n",
    "index.addDataPointBatch(df)\n",
    "index.createIndex({'post': 2}, print_progress=True)"
   ]
  },
  {
   "cell_type": "code",
   "execution_count": 17,
   "metadata": {},
   "outputs": [],
   "source": [
    "index.saveIndex('object_encoding_index.hnsw')"
   ]
  },
  {
   "cell_type": "markdown",
   "metadata": {},
   "source": [
    "### 1.2 Query Index for Similar Objects"
   ]
  },
  {
   "cell_type": "markdown",
   "metadata": {},
   "source": [
    "The query will return the k most similar objects in the whole dataset based on cosine similarity."
   ]
  },
  {
   "cell_type": "markdown",
   "metadata": {},
   "source": [
    "We classify objects as unknown objects if they have relatively low similarity scores"
   ]
  },
  {
   "cell_type": "code",
   "execution_count": 19,
   "metadata": {},
   "outputs": [],
   "source": [
    "def get_knns(index, vecs):\n",
    "     return zip(*index.knnQueryBatch(vecs, k=3, num_threads=8))"
   ]
  },
  {
   "cell_type": "code",
   "execution_count": 24,
   "metadata": {},
   "outputs": [],
   "source": [
    "res = get_knns(index=index, vecs=df)"
   ]
  },
  {
   "cell_type": "code",
   "execution_count": 25,
   "metadata": {},
   "outputs": [],
   "source": [
    "ix, dists = res"
   ]
  },
  {
   "cell_type": "code",
   "execution_count": 31,
   "metadata": {},
   "outputs": [],
   "source": [
    "dists = [1-x for x in dists]"
   ]
  },
  {
   "cell_type": "code",
   "execution_count": 33,
   "metadata": {},
   "outputs": [],
   "source": [
    "furthest = [np.min(x) for x in dists]"
   ]
  },
  {
   "cell_type": "code",
   "execution_count": 44,
   "metadata": {},
   "outputs": [],
   "source": [
    "obj_similarities = pd.DataFrame(furthest, index=df.index, columns=['min_similarity'])"
   ]
  },
  {
   "cell_type": "markdown",
   "metadata": {},
   "source": [
    "<b> Top 5 most dissimilar objects based on this method: <b/>"
   ]
  },
  {
   "cell_type": "code",
   "execution_count": 45,
   "metadata": {},
   "outputs": [
    {
     "data": {
      "text/html": [
       "<div>\n",
       "<style scoped>\n",
       "    .dataframe tbody tr th:only-of-type {\n",
       "        vertical-align: middle;\n",
       "    }\n",
       "\n",
       "    .dataframe tbody tr th {\n",
       "        vertical-align: top;\n",
       "    }\n",
       "\n",
       "    .dataframe thead th {\n",
       "        text-align: right;\n",
       "    }\n",
       "</style>\n",
       "<table border=\"1\" class=\"dataframe\">\n",
       "  <thead>\n",
       "    <tr style=\"text-align: right;\">\n",
       "      <th></th>\n",
       "      <th>min_similarity</th>\n",
       "    </tr>\n",
       "    <tr>\n",
       "      <th>object_id</th>\n",
       "      <th></th>\n",
       "    </tr>\n",
       "  </thead>\n",
       "  <tbody>\n",
       "    <tr>\n",
       "      <th>12656</th>\n",
       "      <td>0.675950</td>\n",
       "    </tr>\n",
       "    <tr>\n",
       "      <th>1304</th>\n",
       "      <td>0.867995</td>\n",
       "    </tr>\n",
       "    <tr>\n",
       "      <th>12689</th>\n",
       "      <td>0.874829</td>\n",
       "    </tr>\n",
       "    <tr>\n",
       "      <th>31238</th>\n",
       "      <td>0.877676</td>\n",
       "    </tr>\n",
       "    <tr>\n",
       "      <th>5217</th>\n",
       "      <td>0.885842</td>\n",
       "    </tr>\n",
       "  </tbody>\n",
       "</table>\n",
       "</div>"
      ],
      "text/plain": [
       "           min_similarity\n",
       "object_id                \n",
       "12656            0.675950\n",
       "1304             0.867995\n",
       "12689            0.874829\n",
       "31238            0.877676\n",
       "5217             0.885842"
      ]
     },
     "execution_count": 45,
     "metadata": {},
     "output_type": "execute_result"
    }
   ],
   "source": [
    "obj_similarities.sort_values(by='min_similarity', ascending=True).head()"
   ]
  },
  {
   "cell_type": "markdown",
   "metadata": {},
   "source": [
    "Pick a threshold based on the distribution to decide what is an unknown object"
   ]
  },
  {
   "cell_type": "code",
   "execution_count": 51,
   "metadata": {},
   "outputs": [],
   "source": [
    "threshold = 0.95"
   ]
  },
  {
   "cell_type": "code",
   "execution_count": 52,
   "metadata": {},
   "outputs": [],
   "source": [
    "dissimlar_objs = obj_similarities.loc[obj_similarities['min_similarity'] < threshold]"
   ]
  },
  {
   "cell_type": "code",
   "execution_count": 54,
   "metadata": {},
   "outputs": [],
   "source": [
    "dissimlar_objs = dissimlar_objs.index"
   ]
  },
  {
   "cell_type": "code",
   "execution_count": 55,
   "metadata": {},
   "outputs": [
    {
     "data": {
      "text/plain": [
       "33"
      ]
     },
     "execution_count": 55,
     "metadata": {},
     "output_type": "execute_result"
    }
   ],
   "source": [
    "len(dissimlar_objs)"
   ]
  },
  {
   "cell_type": "code",
   "execution_count": 56,
   "metadata": {},
   "outputs": [],
   "source": [
    "pd.to_pickle(dissimlar_objs, 'unknown_objects.pkl')"
   ]
  }
 ],
 "metadata": {
  "kernelspec": {
   "display_name": "Python 3",
   "language": "python",
   "name": "python3"
  },
  "language_info": {
   "codemirror_mode": {
    "name": "ipython",
    "version": 3
   },
   "file_extension": ".py",
   "mimetype": "text/x-python",
   "name": "python",
   "nbconvert_exporter": "python",
   "pygments_lexer": "ipython3",
   "version": "3.7.0"
  }
 },
 "nbformat": 4,
 "nbformat_minor": 2
}
