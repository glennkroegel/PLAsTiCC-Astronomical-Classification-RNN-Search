{
 "cells": [
  {
   "cell_type": "code",
   "execution_count": 2,
   "metadata": {},
   "outputs": [],
   "source": [
    "import numpy as np\n",
    "import pandas as pd\n",
    "import matplotlib.pyplot as plt\n",
    "from tqdm import tqdm\n",
    "from utils import *"
   ]
  },
  {
   "cell_type": "code",
   "execution_count": 1,
   "metadata": {},
   "outputs": [],
   "source": [
    "# plt.style.use(\"dark_background\")"
   ]
  },
  {
   "cell_type": "code",
   "execution_count": 3,
   "metadata": {},
   "outputs": [],
   "source": [
    "train = pd.read_csv('training_set.csv')\n",
    "meta = pd.read_csv('training_set_metadata.csv')"
   ]
  },
  {
   "cell_type": "code",
   "execution_count": 4,
   "metadata": {},
   "outputs": [
    {
     "data": {
      "text/html": [
       "<div>\n",
       "<style scoped>\n",
       "    .dataframe tbody tr th:only-of-type {\n",
       "        vertical-align: middle;\n",
       "    }\n",
       "\n",
       "    .dataframe tbody tr th {\n",
       "        vertical-align: top;\n",
       "    }\n",
       "\n",
       "    .dataframe thead th {\n",
       "        text-align: right;\n",
       "    }\n",
       "</style>\n",
       "<table border=\"1\" class=\"dataframe\">\n",
       "  <thead>\n",
       "    <tr style=\"text-align: right;\">\n",
       "      <th></th>\n",
       "      <th>object_id</th>\n",
       "      <th>mjd</th>\n",
       "      <th>passband</th>\n",
       "      <th>flux</th>\n",
       "      <th>flux_err</th>\n",
       "      <th>detected</th>\n",
       "    </tr>\n",
       "  </thead>\n",
       "  <tbody>\n",
       "    <tr>\n",
       "      <th>0</th>\n",
       "      <td>615</td>\n",
       "      <td>59750.4229</td>\n",
       "      <td>2</td>\n",
       "      <td>-544.810303</td>\n",
       "      <td>3.622952</td>\n",
       "      <td>1</td>\n",
       "    </tr>\n",
       "    <tr>\n",
       "      <th>1</th>\n",
       "      <td>615</td>\n",
       "      <td>59750.4306</td>\n",
       "      <td>1</td>\n",
       "      <td>-816.434326</td>\n",
       "      <td>5.553370</td>\n",
       "      <td>1</td>\n",
       "    </tr>\n",
       "    <tr>\n",
       "      <th>2</th>\n",
       "      <td>615</td>\n",
       "      <td>59750.4383</td>\n",
       "      <td>3</td>\n",
       "      <td>-471.385529</td>\n",
       "      <td>3.801213</td>\n",
       "      <td>1</td>\n",
       "    </tr>\n",
       "    <tr>\n",
       "      <th>3</th>\n",
       "      <td>615</td>\n",
       "      <td>59750.4450</td>\n",
       "      <td>4</td>\n",
       "      <td>-388.984985</td>\n",
       "      <td>11.395031</td>\n",
       "      <td>1</td>\n",
       "    </tr>\n",
       "    <tr>\n",
       "      <th>4</th>\n",
       "      <td>615</td>\n",
       "      <td>59752.4070</td>\n",
       "      <td>2</td>\n",
       "      <td>-681.858887</td>\n",
       "      <td>4.041204</td>\n",
       "      <td>1</td>\n",
       "    </tr>\n",
       "  </tbody>\n",
       "</table>\n",
       "</div>"
      ],
      "text/plain": [
       "   object_id         mjd  passband        flux   flux_err  detected\n",
       "0        615  59750.4229         2 -544.810303   3.622952         1\n",
       "1        615  59750.4306         1 -816.434326   5.553370         1\n",
       "2        615  59750.4383         3 -471.385529   3.801213         1\n",
       "3        615  59750.4450         4 -388.984985  11.395031         1\n",
       "4        615  59752.4070         2 -681.858887   4.041204         1"
      ]
     },
     "execution_count": 4,
     "metadata": {},
     "output_type": "execute_result"
    }
   ],
   "source": [
    "train.head()"
   ]
  },
  {
   "cell_type": "code",
   "execution_count": 5,
   "metadata": {},
   "outputs": [],
   "source": [
    "symlog = lambda x: np.sign(x) * np.log(np.abs(x))"
   ]
  },
  {
   "cell_type": "code",
   "execution_count": 6,
   "metadata": {},
   "outputs": [],
   "source": [
    "zscore = lambda x: (x - x.mean()) / x.std()"
   ]
  },
  {
   "cell_type": "code",
   "execution_count": 7,
   "metadata": {},
   "outputs": [],
   "source": [
    "train_dt = train.groupby(['object_id','passband'])['mjd'].transform(lambda x: x.diff()).fillna(-10)"
   ]
  },
  {
   "cell_type": "code",
   "execution_count": 8,
   "metadata": {},
   "outputs": [],
   "source": [
    "train['x'] = np.log(1+np.power(train['flux']/train['flux_err'],2))"
   ]
  },
  {
   "cell_type": "code",
   "execution_count": 9,
   "metadata": {},
   "outputs": [
    {
     "data": {
      "text/plain": [
       "<matplotlib.axes._subplots.AxesSubplot at 0x7f9ea0cee9e8>"
      ]
     },
     "execution_count": 9,
     "metadata": {},
     "output_type": "execute_result"
    },
    {
     "data": {
      "image/png": "[encoded data removed]",
      "text/plain": [
       "<Figure size 432x288 with 1 Axes>"
      ]
     },
     "metadata": {},
     "output_type": "display_data"
    }
   ],
   "source": [
    "train['x'].hist()"
   ]
  },
  {
   "cell_type": "code",
   "execution_count": 10,
   "metadata": {},
   "outputs": [],
   "source": [
    "train['x'] = train.groupby(['object_id','passband'])['x'].transform(zscore)"
   ]
  },
  {
   "cell_type": "code",
   "execution_count": 11,
   "metadata": {},
   "outputs": [
    {
     "data": {
      "text/plain": [
       "<matplotlib.axes._subplots.AxesSubplot at 0x7f9ea0b214e0>"
      ]
     },
     "execution_count": 11,
     "metadata": {},
     "output_type": "execute_result"
    },
    {
     "data": {
      "image/png": "[encoded data removed]",
      "text/plain": [
       "<Figure size 432x288 with 1 Axes>"
      ]
     },
     "metadata": {},
     "output_type": "display_data"
    }
   ],
   "source": [
    "train['x'].hist()"
   ]
  },
  {
   "cell_type": "code",
   "execution_count": 12,
   "metadata": {},
   "outputs": [],
   "source": [
    "train['dt'] = train_dt"
   ]
  },
  {
   "cell_type": "code",
   "execution_count": 13,
   "metadata": {},
   "outputs": [],
   "source": [
    "# train['flux'] = train['flux'].apply(symlog)\n",
    "# train['flux_err'] = train['flux_err'].apply(symlog)"
   ]
  },
  {
   "cell_type": "code",
   "execution_count": 14,
   "metadata": {},
   "outputs": [],
   "source": [
    "cols_to_drop = ['mjd', 'flux', 'flux_err']"
   ]
  },
  {
   "cell_type": "code",
   "execution_count": 15,
   "metadata": {},
   "outputs": [],
   "source": [
    "train.drop(cols_to_drop, 1, inplace=True)"
   ]
  },
  {
   "cell_type": "code",
   "execution_count": 16,
   "metadata": {},
   "outputs": [
    {
     "data": {
      "text/plain": [
       "<matplotlib.axes._subplots.AxesSubplot at 0x7f9ea0177cf8>"
      ]
     },
     "execution_count": 16,
     "metadata": {},
     "output_type": "execute_result"
    },
    {
     "data": {
      "image/png": "[encoded data removed]",
      "text/plain": [
       "<Figure size 432x288 with 1 Axes>"
      ]
     },
     "metadata": {},
     "output_type": "display_data"
    }
   ],
   "source": [
    "train['dt'].hist()"
   ]
  },
  {
   "cell_type": "code",
   "execution_count": 17,
   "metadata": {},
   "outputs": [],
   "source": [
    "train['dt'] = train['dt'].apply(lambda x: np.log(1+x) if x > 0 else x)"
   ]
  },
  {
   "cell_type": "code",
   "execution_count": 18,
   "metadata": {},
   "outputs": [
    {
     "data": {
      "text/plain": [
       "<matplotlib.axes._subplots.AxesSubplot at 0x7f9ea00e9c88>"
      ]
     },
     "execution_count": 18,
     "metadata": {},
     "output_type": "execute_result"
    },
    {
     "data": {
      "image/png": "[encoded data removed]",
      "text/plain": [
       "<Figure size 432x288 with 1 Axes>"
      ]
     },
     "metadata": {},
     "output_type": "display_data"
    }
   ],
   "source": [
    "train['dt'].hist()"
   ]
  },
  {
   "cell_type": "code",
   "execution_count": 19,
   "metadata": {},
   "outputs": [
    {
     "data": {
      "text/html": [
       "<div>\n",
       "<style scoped>\n",
       "    .dataframe tbody tr th:only-of-type {\n",
       "        vertical-align: middle;\n",
       "    }\n",
       "\n",
       "    .dataframe tbody tr th {\n",
       "        vertical-align: top;\n",
       "    }\n",
       "\n",
       "    .dataframe thead th {\n",
       "        text-align: right;\n",
       "    }\n",
       "</style>\n",
       "<table border=\"1\" class=\"dataframe\">\n",
       "  <thead>\n",
       "    <tr style=\"text-align: right;\">\n",
       "      <th></th>\n",
       "      <th>object_id</th>\n",
       "      <th>passband</th>\n",
       "      <th>detected</th>\n",
       "      <th>x</th>\n",
       "      <th>dt</th>\n",
       "    </tr>\n",
       "  </thead>\n",
       "  <tbody>\n",
       "    <tr>\n",
       "      <th>0</th>\n",
       "      <td>615</td>\n",
       "      <td>2</td>\n",
       "      <td>1</td>\n",
       "      <td>0.508180</td>\n",
       "      <td>-10.000000</td>\n",
       "    </tr>\n",
       "    <tr>\n",
       "      <th>1</th>\n",
       "      <td>615</td>\n",
       "      <td>1</td>\n",
       "      <td>1</td>\n",
       "      <td>0.557699</td>\n",
       "      <td>-10.000000</td>\n",
       "    </tr>\n",
       "    <tr>\n",
       "      <th>2</th>\n",
       "      <td>615</td>\n",
       "      <td>3</td>\n",
       "      <td>1</td>\n",
       "      <td>0.593060</td>\n",
       "      <td>-10.000000</td>\n",
       "    </tr>\n",
       "    <tr>\n",
       "      <th>3</th>\n",
       "      <td>615</td>\n",
       "      <td>4</td>\n",
       "      <td>1</td>\n",
       "      <td>-0.923873</td>\n",
       "      <td>-10.000000</td>\n",
       "    </tr>\n",
       "    <tr>\n",
       "      <th>4</th>\n",
       "      <td>615</td>\n",
       "      <td>2</td>\n",
       "      <td>1</td>\n",
       "      <td>0.660294</td>\n",
       "      <td>1.093298</td>\n",
       "    </tr>\n",
       "    <tr>\n",
       "      <th>5</th>\n",
       "      <td>615</td>\n",
       "      <td>1</td>\n",
       "      <td>1</td>\n",
       "      <td>0.685804</td>\n",
       "      <td>1.093298</td>\n",
       "    </tr>\n",
       "    <tr>\n",
       "      <th>6</th>\n",
       "      <td>615</td>\n",
       "      <td>3</td>\n",
       "      <td>1</td>\n",
       "      <td>0.792594</td>\n",
       "      <td>1.093298</td>\n",
       "    </tr>\n",
       "    <tr>\n",
       "      <th>7</th>\n",
       "      <td>615</td>\n",
       "      <td>4</td>\n",
       "      <td>1</td>\n",
       "      <td>0.898964</td>\n",
       "      <td>1.094738</td>\n",
       "    </tr>\n",
       "    <tr>\n",
       "      <th>8</th>\n",
       "      <td>615</td>\n",
       "      <td>5</td>\n",
       "      <td>1</td>\n",
       "      <td>0.197996</td>\n",
       "      <td>-10.000000</td>\n",
       "    </tr>\n",
       "    <tr>\n",
       "      <th>9</th>\n",
       "      <td>615</td>\n",
       "      <td>2</td>\n",
       "      <td>1</td>\n",
       "      <td>0.575854</td>\n",
       "      <td>2.765677</td>\n",
       "    </tr>\n",
       "    <tr>\n",
       "      <th>10</th>\n",
       "      <td>615</td>\n",
       "      <td>1</td>\n",
       "      <td>1</td>\n",
       "      <td>0.612227</td>\n",
       "      <td>2.765677</td>\n",
       "    </tr>\n",
       "    <tr>\n",
       "      <th>11</th>\n",
       "      <td>615</td>\n",
       "      <td>3</td>\n",
       "      <td>1</td>\n",
       "      <td>0.750062</td>\n",
       "      <td>2.765677</td>\n",
       "    </tr>\n",
       "    <tr>\n",
       "      <th>12</th>\n",
       "      <td>615</td>\n",
       "      <td>4</td>\n",
       "      <td>1</td>\n",
       "      <td>0.992320</td>\n",
       "      <td>2.765684</td>\n",
       "    </tr>\n",
       "    <tr>\n",
       "      <th>13</th>\n",
       "      <td>615</td>\n",
       "      <td>5</td>\n",
       "      <td>1</td>\n",
       "      <td>0.992027</td>\n",
       "      <td>2.765740</td>\n",
       "    </tr>\n",
       "    <tr>\n",
       "      <th>14</th>\n",
       "      <td>615</td>\n",
       "      <td>2</td>\n",
       "      <td>1</td>\n",
       "      <td>0.425677</td>\n",
       "      <td>1.366372</td>\n",
       "    </tr>\n",
       "    <tr>\n",
       "      <th>15</th>\n",
       "      <td>615</td>\n",
       "      <td>1</td>\n",
       "      <td>1</td>\n",
       "      <td>0.496769</td>\n",
       "      <td>1.366372</td>\n",
       "    </tr>\n",
       "    <tr>\n",
       "      <th>16</th>\n",
       "      <td>615</td>\n",
       "      <td>3</td>\n",
       "      <td>1</td>\n",
       "      <td>0.626177</td>\n",
       "      <td>1.366398</td>\n",
       "    </tr>\n",
       "    <tr>\n",
       "      <th>17</th>\n",
       "      <td>615</td>\n",
       "      <td>4</td>\n",
       "      <td>1</td>\n",
       "      <td>0.826441</td>\n",
       "      <td>1.366398</td>\n",
       "    </tr>\n",
       "    <tr>\n",
       "      <th>18</th>\n",
       "      <td>615</td>\n",
       "      <td>5</td>\n",
       "      <td>1</td>\n",
       "      <td>0.790130</td>\n",
       "      <td>1.366449</td>\n",
       "    </tr>\n",
       "    <tr>\n",
       "      <th>19</th>\n",
       "      <td>615</td>\n",
       "      <td>2</td>\n",
       "      <td>1</td>\n",
       "      <td>0.464681</td>\n",
       "      <td>2.312625</td>\n",
       "    </tr>\n",
       "    <tr>\n",
       "      <th>20</th>\n",
       "      <td>615</td>\n",
       "      <td>1</td>\n",
       "      <td>1</td>\n",
       "      <td>0.549832</td>\n",
       "      <td>2.312625</td>\n",
       "    </tr>\n",
       "    <tr>\n",
       "      <th>21</th>\n",
       "      <td>615</td>\n",
       "      <td>3</td>\n",
       "      <td>1</td>\n",
       "      <td>0.667958</td>\n",
       "      <td>2.312615</td>\n",
       "    </tr>\n",
       "    <tr>\n",
       "      <th>22</th>\n",
       "      <td>615</td>\n",
       "      <td>4</td>\n",
       "      <td>1</td>\n",
       "      <td>0.809377</td>\n",
       "      <td>2.312605</td>\n",
       "    </tr>\n",
       "    <tr>\n",
       "      <th>23</th>\n",
       "      <td>615</td>\n",
       "      <td>5</td>\n",
       "      <td>1</td>\n",
       "      <td>0.705207</td>\n",
       "      <td>2.312585</td>\n",
       "    </tr>\n",
       "    <tr>\n",
       "      <th>24</th>\n",
       "      <td>615</td>\n",
       "      <td>2</td>\n",
       "      <td>1</td>\n",
       "      <td>-0.039686</td>\n",
       "      <td>1.353487</td>\n",
       "    </tr>\n",
       "    <tr>\n",
       "      <th>25</th>\n",
       "      <td>615</td>\n",
       "      <td>1</td>\n",
       "      <td>1</td>\n",
       "      <td>0.233210</td>\n",
       "      <td>1.353487</td>\n",
       "    </tr>\n",
       "    <tr>\n",
       "      <th>26</th>\n",
       "      <td>615</td>\n",
       "      <td>3</td>\n",
       "      <td>1</td>\n",
       "      <td>0.237101</td>\n",
       "      <td>1.353487</td>\n",
       "    </tr>\n",
       "    <tr>\n",
       "      <th>27</th>\n",
       "      <td>615</td>\n",
       "      <td>4</td>\n",
       "      <td>1</td>\n",
       "      <td>0.463227</td>\n",
       "      <td>1.353513</td>\n",
       "    </tr>\n",
       "    <tr>\n",
       "      <th>28</th>\n",
       "      <td>615</td>\n",
       "      <td>5</td>\n",
       "      <td>1</td>\n",
       "      <td>0.471910</td>\n",
       "      <td>1.353565</td>\n",
       "    </tr>\n",
       "    <tr>\n",
       "      <th>29</th>\n",
       "      <td>615</td>\n",
       "      <td>2</td>\n",
       "      <td>1</td>\n",
       "      <td>0.278033</td>\n",
       "      <td>2.778596</td>\n",
       "    </tr>\n",
       "  </tbody>\n",
       "</table>\n",
       "</div>"
      ],
      "text/plain": [
       "    object_id  passband  detected         x         dt\n",
       "0         615         2         1  0.508180 -10.000000\n",
       "1         615         1         1  0.557699 -10.000000\n",
       "2         615         3         1  0.593060 -10.000000\n",
       "3         615         4         1 -0.923873 -10.000000\n",
       "4         615         2         1  0.660294   1.093298\n",
       "5         615         1         1  0.685804   1.093298\n",
       "6         615         3         1  0.792594   1.093298\n",
       "7         615         4         1  0.898964   1.094738\n",
       "8         615         5         1  0.197996 -10.000000\n",
       "9         615         2         1  0.575854   2.765677\n",
       "10        615         1         1  0.612227   2.765677\n",
       "11        615         3         1  0.750062   2.765677\n",
       "12        615         4         1  0.992320   2.765684\n",
       "13        615         5         1  0.992027   2.765740\n",
       "14        615         2         1  0.425677   1.366372\n",
       "15        615         1         1  0.496769   1.366372\n",
       "16        615         3         1  0.626177   1.366398\n",
       "17        615         4         1  0.826441   1.366398\n",
       "18        615         5         1  0.790130   1.366449\n",
       "19        615         2         1  0.464681   2.312625\n",
       "20        615         1         1  0.549832   2.312625\n",
       "21        615         3         1  0.667958   2.312615\n",
       "22        615         4         1  0.809377   2.312605\n",
       "23        615         5         1  0.705207   2.312585\n",
       "24        615         2         1 -0.039686   1.353487\n",
       "25        615         1         1  0.233210   1.353487\n",
       "26        615         3         1  0.237101   1.353487\n",
       "27        615         4         1  0.463227   1.353513\n",
       "28        615         5         1  0.471910   1.353565\n",
       "29        615         2         1  0.278033   2.778596"
      ]
     },
     "execution_count": 19,
     "metadata": {},
     "output_type": "execute_result"
    }
   ],
   "source": [
    "train.head(30)"
   ]
  },
  {
   "cell_type": "code",
   "execution_count": 20,
   "metadata": {},
   "outputs": [],
   "source": [
    "train = train.groupby(['object_id', 'passband']).apply(\n",
    "    lambda x: x.set_index(['object_id', 'passband']).to_dict(orient='list')\n",
    ")"
   ]
  },
  {
   "cell_type": "code",
   "execution_count": 21,
   "metadata": {},
   "outputs": [
    {
     "data": {
      "text/plain": [
       "object_id  passband\n",
       "615        0           {'detected': [0, 1, 0, 1, 1, 1, 1, 1, 1, 1, 1,...\n",
       "           1           {'detected': [1, 1, 1, 1, 1, 1, 1, 1, 1, 1, 1,...\n",
       "           2           {'detected': [1, 1, 1, 1, 1, 1, 1, 1, 1, 1, 1,...\n",
       "           3           {'detected': [1, 1, 1, 1, 1, 1, 1, 1, 1, 1, 1,...\n",
       "           4           {'detected': [1, 1, 1, 1, 1, 1, 1, 1, 1, 1, 1,...\n",
       "           5           {'detected': [1, 1, 1, 1, 1, 1, 1, 1, 1, 1, 1,...\n",
       "713        0           {'detected': [0, 0, 0, 0, 0, 0, 0, 0, 0, 0, 0,...\n",
       "           1           {'detected': [1, 0, 1, 0, 0, 0, 0, 1, 0, 0, 0,...\n",
       "           2           {'detected': [0, 0, 0, 0, 0, 0, 0, 0, 0, 0, 0,...\n",
       "           3           {'detected': [1, 0, 0, 0, 0, 0, 0, 0, 0, 0, 1,...\n",
       "           4           {'detected': [0, 0, 0, 0, 0, 0, 0, 0, 0, 0, 0,...\n",
       "           5           {'detected': [0, 0, 0, 0, 0, 0, 0, 0, 0, 0, 0,...\n",
       "730        0           {'detected': [0, 0, 0, 0, 0, 0, 0, 0, 0, 0, 0,...\n",
       "           1           {'detected': [0, 0, 0, 0, 0, 0, 0, 0, 0, 0, 0,...\n",
       "           2           {'detected': [0, 0, 0, 0, 0, 0, 0, 0, 0, 0, 0,...\n",
       "           3           {'detected': [0, 0, 0, 0, 0, 0, 0, 0, 0, 0, 0,...\n",
       "           4           {'detected': [0, 0, 0, 0, 0, 0, 0, 0, 0, 0, 0,...\n",
       "           5           {'detected': [0, 0, 0, 0, 0, 0, 0, 0, 0, 0, 0,...\n",
       "745        0           {'detected': [0, 0, 0, 0, 0, 0, 0, 0, 0, 0, 0,...\n",
       "           1           {'detected': [0, 0, 0, 0, 0, 0, 0, 0, 0, 0, 0,...\n",
       "           2           {'detected': [0, 0, 0, 0, 0, 0, 0, 0, 0, 0, 0,...\n",
       "           3           {'detected': [0, 0, 0, 0, 0, 0, 0, 0, 0, 0, 0,...\n",
       "           4           {'detected': [0, 0, 0, 0, 0, 0, 0, 0, 0, 0, 0,...\n",
       "           5           {'detected': [0, 0, 0, 0, 0, 0, 0, 0, 0, 0, 0,...\n",
       "1124       0           {'detected': [0, 0, 0, 0, 0, 0, 0, 0, 0, 0, 0,...\n",
       "           1           {'detected': [0, 0, 0, 0, 0, 0, 0, 0, 0, 0, 0,...\n",
       "           2           {'detected': [0, 0, 0, 0, 0, 0, 0, 0, 0, 0, 0,...\n",
       "           3           {'detected': [0, 0, 0, 0, 0, 0, 0, 0, 0, 0, 0,...\n",
       "           4           {'detected': [0, 0, 0, 0, 0, 0, 0, 0, 0, 0, 0,...\n",
       "           5           {'detected': [0, 0, 0, 0, 0, 0, 0, 0, 0, 0, 0,...\n",
       "dtype: object"
      ]
     },
     "execution_count": 21,
     "metadata": {},
     "output_type": "execute_result"
    }
   ],
   "source": [
    "train.head(30)"
   ]
  },
  {
   "cell_type": "code",
   "execution_count": 22,
   "metadata": {},
   "outputs": [],
   "source": [
    "train.to_pickle('train_ts.pkl')"
   ]
  },
  {
   "cell_type": "markdown",
   "metadata": {},
   "source": [
    "###  Map targets and Class Weighting"
   ]
  },
  {
   "cell_type": "code",
   "execution_count": 23,
   "metadata": {},
   "outputs": [],
   "source": [
    "ys=sorted(meta['target'].unique())"
   ]
  },
  {
   "cell_type": "code",
   "execution_count": 24,
   "metadata": {},
   "outputs": [
    {
     "data": {
      "text/plain": [
       "[6, 15, 16, 42, 52, 53, 62, 64, 65, 67, 88, 90, 92, 95]"
      ]
     },
     "execution_count": 24,
     "metadata": {},
     "output_type": "execute_result"
    }
   ],
   "source": [
    "ys"
   ]
  },
  {
   "cell_type": "code",
   "execution_count": 25,
   "metadata": {},
   "outputs": [],
   "source": [
    "mapping = {v:k for k,v in enumerate(ys)}"
   ]
  },
  {
   "cell_type": "code",
   "execution_count": 26,
   "metadata": {},
   "outputs": [],
   "source": [
    "pd.to_pickle(mapping, 'target_map.pkl')"
   ]
  },
  {
   "cell_type": "code",
   "execution_count": 27,
   "metadata": {},
   "outputs": [],
   "source": [
    "meta['target'] = meta['target'].map(mapping)"
   ]
  },
  {
   "cell_type": "markdown",
   "metadata": {},
   "source": [
    "### Train/CV Split"
   ]
  },
  {
   "cell_type": "code",
   "execution_count": 28,
   "metadata": {},
   "outputs": [],
   "source": [
    "meta.set_index('object_id', inplace=True)"
   ]
  },
  {
   "cell_type": "code",
   "execution_count": 29,
   "metadata": {
    "scrolled": true
   },
   "outputs": [],
   "source": [
    "meta = meta.sample(frac=1.)"
   ]
  },
  {
   "cell_type": "code",
   "execution_count": 30,
   "metadata": {},
   "outputs": [],
   "source": [
    "p = 0.9"
   ]
  },
  {
   "cell_type": "code",
   "execution_count": 31,
   "metadata": {},
   "outputs": [],
   "source": [
    "k = int(p*len(meta))"
   ]
  },
  {
   "cell_type": "code",
   "execution_count": 32,
   "metadata": {},
   "outputs": [],
   "source": [
    "train_ids = meta.iloc[:k].index\n",
    "cv_ids = meta.iloc[k:].index"
   ]
  },
  {
   "cell_type": "code",
   "execution_count": 33,
   "metadata": {},
   "outputs": [
    {
     "data": {
      "text/plain": [
       "7063"
      ]
     },
     "execution_count": 33,
     "metadata": {},
     "output_type": "execute_result"
    }
   ],
   "source": [
    "len(train_ids)"
   ]
  },
  {
   "cell_type": "code",
   "execution_count": 34,
   "metadata": {},
   "outputs": [],
   "source": [
    "train_ys = meta['target'].loc[train_ids].values\n",
    "cv_ys = meta['target'].loc[cv_ids].values"
   ]
  },
  {
   "cell_type": "code",
   "execution_count": 35,
   "metadata": {},
   "outputs": [
    {
     "data": {
      "text/plain": [
       "array([ 2, 10, 11, ..., 12,  3,  3])"
      ]
     },
     "execution_count": 35,
     "metadata": {},
     "output_type": "execute_result"
    }
   ],
   "source": [
    "train_ys"
   ]
  },
  {
   "cell_type": "code",
   "execution_count": 36,
   "metadata": {},
   "outputs": [
    {
     "data": {
      "text/plain": [
       "7063"
      ]
     },
     "execution_count": 36,
     "metadata": {},
     "output_type": "execute_result"
    }
   ],
   "source": [
    "len(train_ys)"
   ]
  },
  {
   "cell_type": "code",
   "execution_count": 37,
   "metadata": {},
   "outputs": [
    {
     "data": {
      "text/plain": [
       "7063"
      ]
     },
     "execution_count": 37,
     "metadata": {},
     "output_type": "execute_result"
    }
   ],
   "source": [
    "len(train_ids)"
   ]
  },
  {
   "cell_type": "code",
   "execution_count": 38,
   "metadata": {},
   "outputs": [
    {
     "data": {
      "text/plain": [
       "Int64Index([   121301,      4819,  24531840, 118285479, 119963524,  68270337,\n",
       "             99179619,  18648923, 102415062,    170667,\n",
       "            ...\n",
       "             90432402,  65963501,  13895118,     64896,  35513155,  44469643,\n",
       "                89455,  99114952,  73569281,     25039],\n",
       "           dtype='int64', name='object_id', length=785)"
      ]
     },
     "execution_count": 38,
     "metadata": {},
     "output_type": "execute_result"
    }
   ],
   "source": [
    "cv_ids"
   ]
  },
  {
   "cell_type": "code",
   "execution_count": 39,
   "metadata": {},
   "outputs": [
    {
     "data": {
      "text/plain": [
       "Int64Index([  5855578,    215351, 129722950,  81886891, 103766729,  40838478,\n",
       "             27723073,  29586650,  52815591,  48246321,\n",
       "            ...\n",
       "            128989049,  22050801,   7412510,    156739,    123211,  97742269,\n",
       "             51567112,    198690,  83423091,  46026984],\n",
       "           dtype='int64', name='object_id', length=7063)"
      ]
     },
     "execution_count": 39,
     "metadata": {},
     "output_type": "execute_result"
    }
   ],
   "source": [
    "train_ids"
   ]
  },
  {
   "cell_type": "code",
   "execution_count": 40,
   "metadata": {},
   "outputs": [],
   "source": [
    "train_xs = train.loc[train_ids]\n",
    "cv_xs = train.loc[cv_ids]"
   ]
  },
  {
   "cell_type": "code",
   "execution_count": 41,
   "metadata": {},
   "outputs": [],
   "source": [
    "train_xs.to_pickle('train_xs.pkl')\n",
    "pd.to_pickle(train_ys, 'train_ys.pkl')\n",
    "cv_xs.to_pickle('cv_xs.pkl')\n",
    "pd.to_pickle(cv_ys,'cv_ys.pkl')"
   ]
  },
  {
   "cell_type": "code",
   "execution_count": null,
   "metadata": {},
   "outputs": [],
   "source": []
  },
  {
   "cell_type": "markdown",
   "metadata": {},
   "source": [
    "### Create DataLoaders"
   ]
  },
  {
   "cell_type": "code",
   "execution_count": 42,
   "metadata": {},
   "outputs": [],
   "source": [
    "import torch\n",
    "import torch.nn as nn\n",
    "import torch.nn.functional as F\n",
    "from torch.autograd import Variable\n",
    "from torch.utils.data import Dataset, DataLoader"
   ]
  },
  {
   "cell_type": "code",
   "execution_count": 43,
   "metadata": {},
   "outputs": [],
   "source": [
    "class Dset(Dataset):\n",
    "    \n",
    "    def __init__(self, data_ids, labels):\n",
    "        super(Dset, self).__init__()\n",
    "        self.data_ids = data_ids\n",
    "        self.labels = labels\n",
    "        self._len = len(labels)\n",
    "    \n",
    "    def __len__(self):\n",
    "        return self._len\n",
    "    \n",
    "    def __getitem__(self, index):\n",
    "        idx = self.data_ids[index]\n",
    "        y_i = self.labels[index]\n",
    "        return idx, y_i"
   ]
  },
  {
   "cell_type": "code",
   "execution_count": 44,
   "metadata": {},
   "outputs": [],
   "source": [
    "class PassbandDataset(torch.utils.data.Dataset):\n",
    "    def __init__(self, xs, ys):\n",
    "        self.xs = xs\n",
    "        self.ys = ys\n",
    "\n",
    "    def __getitem__(self, i):\n",
    "        return (self.xs[i], self.ys[i])\n",
    "\n",
    "    def __len__(self):\n",
    "        return len(self.xs)"
   ]
  },
  {
   "cell_type": "code",
   "execution_count": 47,
   "metadata": {},
   "outputs": [],
   "source": [
    "train_xs = pd.read_pickle('train_xs.pkl').unstack('passband')\n",
    "train_ys = pd.DataFrame(pd.read_pickle('train_ys.pkl'), index=train_xs.index, columns=['y'])\n",
    "cv_xs = pd.read_pickle('cv_xs.pkl').unstack('passband')\n",
    "cv_ys = pd.DataFrame(pd.read_pickle('cv_ys.pkl'), index=cv_xs.index, columns=['y'])"
   ]
  },
  {
   "cell_type": "code",
   "execution_count": 48,
   "metadata": {},
   "outputs": [],
   "source": [
    "def format_sample(x):\n",
    "    a = [T(np.array(v).astype(np.float32)) for k,v in x.items()]\n",
    "    a = torch.stack(a)\n",
    "    a = np.squeeze(a)\n",
    "    return a"
   ]
  },
  {
   "cell_type": "code",
   "execution_count": 49,
   "metadata": {},
   "outputs": [
    {
     "name": "stderr",
     "output_type": "stream",
     "text": [
      "100%|██████████| 6/6 [00:01<00:00,  3.28it/s]\n"
     ]
    }
   ],
   "source": [
    "for pb in tqdm(range(6)):\n",
    "    train_xs[pb] = train_xs[pb].apply(lambda x: format_sample(x))\n",
    "    cv_xs[pb] = cv_xs[pb].apply(lambda x: format_sample(x))"
   ]
  },
  {
   "cell_type": "code",
   "execution_count": 50,
   "metadata": {},
   "outputs": [],
   "source": [
    "train_data = pd.concat([train_xs, train_ys], axis=1)\n",
    "cv_data = pd.concat([cv_xs, cv_ys], axis=1)"
   ]
  },
  {
   "cell_type": "code",
   "execution_count": 51,
   "metadata": {},
   "outputs": [
    {
     "data": {
      "text/html": [
       "<div>\n",
       "<style scoped>\n",
       "    .dataframe tbody tr th:only-of-type {\n",
       "        vertical-align: middle;\n",
       "    }\n",
       "\n",
       "    .dataframe tbody tr th {\n",
       "        vertical-align: top;\n",
       "    }\n",
       "\n",
       "    .dataframe thead th {\n",
       "        text-align: right;\n",
       "    }\n",
       "</style>\n",
       "<table border=\"1\" class=\"dataframe\">\n",
       "  <thead>\n",
       "    <tr style=\"text-align: right;\">\n",
       "      <th></th>\n",
       "      <th>0</th>\n",
       "      <th>1</th>\n",
       "      <th>2</th>\n",
       "      <th>3</th>\n",
       "      <th>4</th>\n",
       "      <th>5</th>\n",
       "      <th>y</th>\n",
       "    </tr>\n",
       "    <tr>\n",
       "      <th>object_id</th>\n",
       "      <th></th>\n",
       "      <th></th>\n",
       "      <th></th>\n",
       "      <th></th>\n",
       "      <th></th>\n",
       "      <th></th>\n",
       "      <th></th>\n",
       "    </tr>\n",
       "  </thead>\n",
       "  <tbody>\n",
       "    <tr>\n",
       "      <th>615</th>\n",
       "      <td>[[tensor(0.), tensor(1.), tensor(0.), tensor(1...</td>\n",
       "      <td>[[tensor(1.), tensor(1.), tensor(1.), tensor(1...</td>\n",
       "      <td>[[tensor(1.), tensor(1.), tensor(1.), tensor(1...</td>\n",
       "      <td>[[tensor(1.), tensor(1.), tensor(1.), tensor(1...</td>\n",
       "      <td>[[tensor(1.), tensor(1.), tensor(1.), tensor(1...</td>\n",
       "      <td>[[tensor(1.), tensor(1.), tensor(1.), tensor(1...</td>\n",
       "      <td>2</td>\n",
       "    </tr>\n",
       "    <tr>\n",
       "      <th>713</th>\n",
       "      <td>[[tensor(0.), tensor(0.), tensor(0.), tensor(0...</td>\n",
       "      <td>[[tensor(1.), tensor(0.), tensor(1.), tensor(0...</td>\n",
       "      <td>[[tensor(0.), tensor(0.), tensor(0.), tensor(0...</td>\n",
       "      <td>[[tensor(1.), tensor(0.), tensor(0.), tensor(0...</td>\n",
       "      <td>[[tensor(0.), tensor(0.), tensor(0.), tensor(0...</td>\n",
       "      <td>[[tensor(0.), tensor(0.), tensor(0.), tensor(0...</td>\n",
       "      <td>10</td>\n",
       "    </tr>\n",
       "    <tr>\n",
       "      <th>730</th>\n",
       "      <td>[[tensor(0.), tensor(0.), tensor(0.), tensor(0...</td>\n",
       "      <td>[[tensor(0.), tensor(0.), tensor(0.), tensor(0...</td>\n",
       "      <td>[[tensor(0.), tensor(0.), tensor(0.), tensor(0...</td>\n",
       "      <td>[[tensor(0.), tensor(0.), tensor(0.), tensor(0...</td>\n",
       "      <td>[[tensor(0.), tensor(0.), tensor(0.), tensor(0...</td>\n",
       "      <td>[[tensor(0.), tensor(0.), tensor(0.), tensor(0...</td>\n",
       "      <td>11</td>\n",
       "    </tr>\n",
       "    <tr>\n",
       "      <th>745</th>\n",
       "      <td>[[tensor(0.), tensor(0.), tensor(0.), tensor(0...</td>\n",
       "      <td>[[tensor(0.), tensor(0.), tensor(0.), tensor(0...</td>\n",
       "      <td>[[tensor(0.), tensor(0.), tensor(0.), tensor(0...</td>\n",
       "      <td>[[tensor(0.), tensor(0.), tensor(0.), tensor(0...</td>\n",
       "      <td>[[tensor(0.), tensor(0.), tensor(0.), tensor(0...</td>\n",
       "      <td>[[tensor(0.), tensor(0.), tensor(0.), tensor(0...</td>\n",
       "      <td>3</td>\n",
       "    </tr>\n",
       "    <tr>\n",
       "      <th>1124</th>\n",
       "      <td>[[tensor(0.), tensor(0.), tensor(0.), tensor(0...</td>\n",
       "      <td>[[tensor(0.), tensor(0.), tensor(0.), tensor(0...</td>\n",
       "      <td>[[tensor(0.), tensor(0.), tensor(0.), tensor(0...</td>\n",
       "      <td>[[tensor(0.), tensor(0.), tensor(0.), tensor(0...</td>\n",
       "      <td>[[tensor(0.), tensor(0.), tensor(0.), tensor(0...</td>\n",
       "      <td>[[tensor(0.), tensor(0.), tensor(0.), tensor(0...</td>\n",
       "      <td>11</td>\n",
       "    </tr>\n",
       "  </tbody>\n",
       "</table>\n",
       "</div>"
      ],
      "text/plain": [
       "                                                           0  \\\n",
       "object_id                                                      \n",
       "615        [[tensor(0.), tensor(1.), tensor(0.), tensor(1...   \n",
       "713        [[tensor(0.), tensor(0.), tensor(0.), tensor(0...   \n",
       "730        [[tensor(0.), tensor(0.), tensor(0.), tensor(0...   \n",
       "745        [[tensor(0.), tensor(0.), tensor(0.), tensor(0...   \n",
       "1124       [[tensor(0.), tensor(0.), tensor(0.), tensor(0...   \n",
       "\n",
       "                                                           1  \\\n",
       "object_id                                                      \n",
       "615        [[tensor(1.), tensor(1.), tensor(1.), tensor(1...   \n",
       "713        [[tensor(1.), tensor(0.), tensor(1.), tensor(0...   \n",
       "730        [[tensor(0.), tensor(0.), tensor(0.), tensor(0...   \n",
       "745        [[tensor(0.), tensor(0.), tensor(0.), tensor(0...   \n",
       "1124       [[tensor(0.), tensor(0.), tensor(0.), tensor(0...   \n",
       "\n",
       "                                                           2  \\\n",
       "object_id                                                      \n",
       "615        [[tensor(1.), tensor(1.), tensor(1.), tensor(1...   \n",
       "713        [[tensor(0.), tensor(0.), tensor(0.), tensor(0...   \n",
       "730        [[tensor(0.), tensor(0.), tensor(0.), tensor(0...   \n",
       "745        [[tensor(0.), tensor(0.), tensor(0.), tensor(0...   \n",
       "1124       [[tensor(0.), tensor(0.), tensor(0.), tensor(0...   \n",
       "\n",
       "                                                           3  \\\n",
       "object_id                                                      \n",
       "615        [[tensor(1.), tensor(1.), tensor(1.), tensor(1...   \n",
       "713        [[tensor(1.), tensor(0.), tensor(0.), tensor(0...   \n",
       "730        [[tensor(0.), tensor(0.), tensor(0.), tensor(0...   \n",
       "745        [[tensor(0.), tensor(0.), tensor(0.), tensor(0...   \n",
       "1124       [[tensor(0.), tensor(0.), tensor(0.), tensor(0...   \n",
       "\n",
       "                                                           4  \\\n",
       "object_id                                                      \n",
       "615        [[tensor(1.), tensor(1.), tensor(1.), tensor(1...   \n",
       "713        [[tensor(0.), tensor(0.), tensor(0.), tensor(0...   \n",
       "730        [[tensor(0.), tensor(0.), tensor(0.), tensor(0...   \n",
       "745        [[tensor(0.), tensor(0.), tensor(0.), tensor(0...   \n",
       "1124       [[tensor(0.), tensor(0.), tensor(0.), tensor(0...   \n",
       "\n",
       "                                                           5   y  \n",
       "object_id                                                         \n",
       "615        [[tensor(1.), tensor(1.), tensor(1.), tensor(1...   2  \n",
       "713        [[tensor(0.), tensor(0.), tensor(0.), tensor(0...  10  \n",
       "730        [[tensor(0.), tensor(0.), tensor(0.), tensor(0...  11  \n",
       "745        [[tensor(0.), tensor(0.), tensor(0.), tensor(0...   3  \n",
       "1124       [[tensor(0.), tensor(0.), tensor(0.), tensor(0...  11  "
      ]
     },
     "execution_count": 51,
     "metadata": {},
     "output_type": "execute_result"
    }
   ],
   "source": [
    "train_data.head()"
   ]
  },
  {
   "cell_type": "code",
   "execution_count": 52,
   "metadata": {},
   "outputs": [],
   "source": [
    "def my_collate(batch):\n",
    "    data = [item[0:-1] for item in batch]  # just form a list of tensor\n",
    "    target = [item[-1] for item in batch]\n",
    "    target = torch.LongTensor(target)\n",
    "    data = np.squeeze(data)\n",
    "    return [data, target]"
   ]
  },
  {
   "cell_type": "code",
   "execution_count": 53,
   "metadata": {},
   "outputs": [],
   "source": [
    "train_set = PassbandDataset(train_xs.values, train_ys.values)\n",
    "cv_set = PassbandDataset(cv_xs.values, cv_ys.values)"
   ]
  },
  {
   "cell_type": "code",
   "execution_count": 54,
   "metadata": {},
   "outputs": [],
   "source": [
    "train_loader = DataLoader(train_set, batch_size=128, shuffle=True, collate_fn=my_collate)\n",
    "cv_loader = DataLoader(cv_set, batch_size=128, shuffle=False, collate_fn=my_collate)"
   ]
  },
  {
   "cell_type": "code",
   "execution_count": 55,
   "metadata": {},
   "outputs": [],
   "source": [
    "a = next(iter(train_loader))"
   ]
  },
  {
   "cell_type": "code",
   "execution_count": 56,
   "metadata": {},
   "outputs": [],
   "source": [
    "data = a[0]"
   ]
  },
  {
   "cell_type": "code",
   "execution_count": 57,
   "metadata": {},
   "outputs": [],
   "source": [
    "b=a[0][0][0][0]"
   ]
  },
  {
   "cell_type": "code",
   "execution_count": 58,
   "metadata": {},
   "outputs": [
    {
     "data": {
      "text/plain": [
       "3"
      ]
     },
     "execution_count": 58,
     "metadata": {},
     "output_type": "execute_result"
    }
   ],
   "source": [
    "len(data[0][0])"
   ]
  },
  {
   "cell_type": "code",
   "execution_count": 59,
   "metadata": {},
   "outputs": [
    {
     "data": {
      "text/plain": [
       "128"
      ]
     },
     "execution_count": 59,
     "metadata": {},
     "output_type": "execute_result"
    }
   ],
   "source": [
    "len(data)"
   ]
  },
  {
   "cell_type": "code",
   "execution_count": null,
   "metadata": {},
   "outputs": [],
   "source": []
  },
  {
   "cell_type": "markdown",
   "metadata": {},
   "source": [
    "### Export"
   ]
  },
  {
   "cell_type": "code",
   "execution_count": 60,
   "metadata": {},
   "outputs": [],
   "source": [
    "torch.save(train_loader, 'train_loader.pt')\n",
    "torch.save(cv_loader, 'cv_loader.pt')"
   ]
  },
  {
   "cell_type": "code",
   "execution_count": 61,
   "metadata": {},
   "outputs": [],
   "source": [
    "test = torch.load('train_loader.pt')"
   ]
  },
  {
   "cell_type": "code",
   "execution_count": 62,
   "metadata": {},
   "outputs": [],
   "source": [
    "a = next(iter(test))"
   ]
  },
  {
   "cell_type": "code",
   "execution_count": 63,
   "metadata": {},
   "outputs": [],
   "source": [
    "data = a[0]"
   ]
  },
  {
   "cell_type": "code",
   "execution_count": 64,
   "metadata": {},
   "outputs": [
    {
     "data": {
      "text/plain": [
       "128"
      ]
     },
     "execution_count": 64,
     "metadata": {},
     "output_type": "execute_result"
    }
   ],
   "source": [
    "len(data)"
   ]
  },
  {
   "cell_type": "code",
   "execution_count": 65,
   "metadata": {},
   "outputs": [
    {
     "data": {
      "text/plain": [
       "6"
      ]
     },
     "execution_count": 65,
     "metadata": {},
     "output_type": "execute_result"
    }
   ],
   "source": [
    "len(data[0])"
   ]
  },
  {
   "cell_type": "code",
   "execution_count": 66,
   "metadata": {},
   "outputs": [
    {
     "data": {
      "text/plain": [
       "torch.Size([3, 14])"
      ]
     },
     "execution_count": 66,
     "metadata": {},
     "output_type": "execute_result"
    }
   ],
   "source": [
    "data[0][0].shape"
   ]
  },
  {
   "cell_type": "code",
   "execution_count": null,
   "metadata": {},
   "outputs": [],
   "source": []
  },
  {
   "cell_type": "code",
   "execution_count": null,
   "metadata": {},
   "outputs": [],
   "source": []
  },
  {
   "cell_type": "code",
   "execution_count": null,
   "metadata": {},
   "outputs": [],
   "source": []
  }
 ],
 "metadata": {
  "kernelspec": {
   "display_name": "Python 3",
   "language": "python",
   "name": "python3"
  },
  "language_info": {
   "codemirror_mode": {
    "name": "ipython",
    "version": 3
   },
   "file_extension": ".py",
   "mimetype": "text/x-python",
   "name": "python",
   "nbconvert_exporter": "python",
   "pygments_lexer": "ipython3",
   "version": "3.6.4"
  }
 },
 "nbformat": 4,
 "nbformat_minor": 2
}
